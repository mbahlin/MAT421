{
  "nbformat": 4,
  "nbformat_minor": 0,
  "metadata": {
    "colab": {
      "name": "MAT421HWC.ipynb",
      "provenance": [],
      "toc_visible": true,
      "authorship_tag": "ABX9TyMd4PLgG9FZUvMhI+mxsa1F",
      "include_colab_link": true
    },
    "kernelspec": {
      "name": "python3",
      "display_name": "Python 3"
    },
    "language_info": {
      "name": "python"
    }
  },
  "cells": [
    {
      "cell_type": "markdown",
      "metadata": {
        "id": "view-in-github",
        "colab_type": "text"
      },
      "source": [
        "<a href=\"https://colab.research.google.com/github/mbahlin/MAT421/blob/main/MAT421HWC.ipynb\" target=\"_parent\"><img src=\"https://colab.research.google.com/assets/colab-badge.svg\" alt=\"Open In Colab\"/></a>"
      ]
    },
    {
      "cell_type": "markdown",
      "source": [
        "# 19.1 Root Finding Problem Statement"
      ],
      "metadata": {
        "id": "_rFd4S_baqFB"
      }
    },
    {
      "cell_type": "markdown",
      "source": [
        "Root (zero) of a function is x_r such that f(x_r) = 0.\n",
        "- Some are easier to compute than others, such as f(x) = x^2 - 9 verses f(x) = cos(x) - x\n"
      ],
      "metadata": {
        "id": "AeOOCUtLe29e"
      }
    },
    {
      "cell_type": "code",
      "execution_count": null,
      "metadata": {
        "id": "yo_98-9NaSuZ"
      },
      "outputs": [],
      "source": [
        "import numpy as np \n",
        "from scipy import optimize \n",
        "f = lambda x: np.cps(x) - x \n",
        "r = optimize.fsolve(f, -2)\n",
        "print(\"r = \",r)\n",
        "result = f(r)\n",
        "print(\"result = \",result)\n",
        "\n",
        "f = lambda x: 1/x\n",
        "r, infodict, ier, mesg = optimize.fsolve(f, -2, full_output = true)\n",
        "print(\"r = \",r)\n",
        "print(\"result = \",result)\n",
        "print(mesg)"
      ]
    },
    {
      "cell_type": "markdown",
      "source": [
        "# 19.2 Tolerance"
      ],
      "metadata": {
        "id": "lfw8Ghlnaqi-"
      }
    },
    {
      "cell_type": "markdown",
      "source": [
        "Error - A deviation from an expected or computed value.\n",
        "\n",
        "Tolerance - The level of error that is acceptable for an engineering application.\n",
        "\n",
        "Converged - When a program has found a solution with an error smaller than the tolerance.\n",
        "\n",
        "For computing routes:\n",
        "- Want an x_r such that f(x_r) is very close to zero.\n",
        "- Therefore |f(x)| is a possible choice for measure of error since the smaller the number is, the closer to a root it is.\n",
        "- If the x_i is the i^th guess of an algorithm for finding a root, then |x_iplus1 - x_i| is another possible measure of error.\n",
        "\n"
      ],
      "metadata": {
        "id": "jYWeHEACh7yP"
      }
    },
    {
      "cell_type": "markdown",
      "source": [
        "# 19.3 Bisection Method"
      ],
      "metadata": {
        "id": "CBmdXVFraqyi"
      }
    },
    {
      "cell_type": "markdown",
      "source": [
        "The Bisection Method is a way of finding roots based on divide and conquer. Despite being a stable method, it converges comparatively slower than the Newton-Raphson Method."
      ],
      "metadata": {
        "id": "6vFf2iRCOXJw"
      }
    },
    {
      "cell_type": "markdown",
      "source": [
        "Intermediate Value Theorem - if f(x) is a continuous function between a and b, and sign(f(a)) =/= sign(f(b)), then there must be a value c such that a < c < b and f(c) = 0.\n",
        "\n",
        "Bisection Method - Uses intermediate value theorem iteratively to find roots.\n",
        "- Let f(x) be a continuous function and a and b be real, scalar values such that a < b.\n",
        "- Assume f(a) > 0 and f(b) < 0, then by the intermediate value theorem, there must be a root on the open interval (a,b).\n",
        "- Let m = (b+a)/2 . If f(m) = 0 or is close, then m is a root.\n",
        "    - If f(m) > 0 , then m is an improvement on left bound , a, and there is a guaranteed root on interval (m,b).\n",
        "    - If f(m) < 0 , then m is an improvement on right bound , b, and there is a guaranteed root on interval (a,m).\n",
        "- This process repeats until the error is acceptably low."
      ],
      "metadata": {
        "id": "SaKZrp2slXES"
      }
    },
    {
      "cell_type": "code",
      "source": [
        "import numpy as np\n",
        "\n",
        "def my_bisection(f, a, b, tol):         # Approximates a root ,R, of f bounded by a and b to within tolerance |f(m)| < tol with m as the midpoint between a and b \n",
        "  m = (a + b)/2\n",
        "  if np.sign(f(a)) == np.sign(f(b)):    # Checks if a and b bound a root\n",
        "    raise Exception(\"The scalars a and b do not bound a root\")\n",
        "  if np.abs(f(m)) < tol:\n",
        "    return m \n",
        "  elif np.sign(f(a)) == np.sign(f(m)):  # Case where m is an improvement on a \n",
        "    return my_bisection(f, m, b, tol)\n",
        "  elif np.sign(f(b)) == np.sign(f(m)):  # Case where m is an improvement on b\n",
        "    return my_bisection(f, a, m, tol)\n"
      ],
      "metadata": {
        "id": "0jMAWrLlpLOA"
      },
      "execution_count": 9,
      "outputs": []
    },
    {
      "cell_type": "code",
      "source": [
        "f = lambda x: x**2 - 2 \n",
        "r1 = my_bisection(f, 0, 2, 0.1)         # Tolerance of 0.1\n",
        "print(\"r1 = \", r1)\n",
        "r01 = my_bisection(f, 0, 2, 0.01)       # Tolerance of 0.01\n",
        "print(\"r01 = \", r01)\n",
        "print(\"f(r1) = \", f(r1))\n",
        "print(\"f(r01) = \", f(r01))"
      ],
      "metadata": {
        "colab": {
          "base_uri": "https://localhost:8080/"
        },
        "id": "-Zp3G5CwveN1",
        "outputId": "172dfe25-136d-459e-9281-5e67d4c00a64"
      },
      "execution_count": 10,
      "outputs": [
        {
          "output_type": "stream",
          "name": "stdout",
          "text": [
            "r1 =  1.4375\n",
            "r01 =  1.4140625\n",
            "f(r1) =  0.06640625\n",
            "f(r01) =  -0.00042724609375\n"
          ]
        }
      ]
    },
    {
      "cell_type": "code",
      "source": [
        "my_bisection(f, 2, 4, 0.01)\n",
        "# This kicks back an exception because there is no roots that lie between the given a and b (2 and 4)"
      ],
      "metadata": {
        "colab": {
          "base_uri": "https://localhost:8080/",
          "height": 312
        },
        "id": "p41FfecSwI9d",
        "outputId": "912175df-dd96-4d27-e800-be00a4a4c934"
      },
      "execution_count": 12,
      "outputs": [
        {
          "output_type": "error",
          "ename": "Exception",
          "evalue": "ignored",
          "traceback": [
            "\u001b[0;31m---------------------------------------------------------------------------\u001b[0m",
            "\u001b[0;31mException\u001b[0m                                 Traceback (most recent call last)",
            "\u001b[0;32m<ipython-input-12-47966354c9d3>\u001b[0m in \u001b[0;36m<module>\u001b[0;34m()\u001b[0m\n\u001b[0;32m----> 1\u001b[0;31m \u001b[0mmy_bisection\u001b[0m\u001b[0;34m(\u001b[0m\u001b[0mf\u001b[0m\u001b[0;34m,\u001b[0m \u001b[0;36m2\u001b[0m\u001b[0;34m,\u001b[0m \u001b[0;36m4\u001b[0m\u001b[0;34m,\u001b[0m \u001b[0;36m0.01\u001b[0m\u001b[0;34m)\u001b[0m\u001b[0;34m\u001b[0m\u001b[0;34m\u001b[0m\u001b[0m\n\u001b[0m\u001b[1;32m      2\u001b[0m \u001b[0;31m# This kicks back an exception because there is no roots that lie between the given a and b (2 and 4)\u001b[0m\u001b[0;34m\u001b[0m\u001b[0;34m\u001b[0m\u001b[0;34m\u001b[0m\u001b[0m\n",
            "\u001b[0;32m<ipython-input-9-efbd55e72190>\u001b[0m in \u001b[0;36mmy_bisection\u001b[0;34m(f, a, b, tol)\u001b[0m\n\u001b[1;32m      4\u001b[0m   \u001b[0mm\u001b[0m \u001b[0;34m=\u001b[0m \u001b[0;34m(\u001b[0m\u001b[0ma\u001b[0m \u001b[0;34m+\u001b[0m \u001b[0mb\u001b[0m\u001b[0;34m)\u001b[0m\u001b[0;34m/\u001b[0m\u001b[0;36m2\u001b[0m\u001b[0;34m\u001b[0m\u001b[0;34m\u001b[0m\u001b[0m\n\u001b[1;32m      5\u001b[0m   \u001b[0;32mif\u001b[0m \u001b[0mnp\u001b[0m\u001b[0;34m.\u001b[0m\u001b[0msign\u001b[0m\u001b[0;34m(\u001b[0m\u001b[0mf\u001b[0m\u001b[0;34m(\u001b[0m\u001b[0ma\u001b[0m\u001b[0;34m)\u001b[0m\u001b[0;34m)\u001b[0m \u001b[0;34m==\u001b[0m \u001b[0mnp\u001b[0m\u001b[0;34m.\u001b[0m\u001b[0msign\u001b[0m\u001b[0;34m(\u001b[0m\u001b[0mf\u001b[0m\u001b[0;34m(\u001b[0m\u001b[0mb\u001b[0m\u001b[0;34m)\u001b[0m\u001b[0;34m)\u001b[0m\u001b[0;34m:\u001b[0m\u001b[0;34m\u001b[0m\u001b[0;34m\u001b[0m\u001b[0m\n\u001b[0;32m----> 6\u001b[0;31m     \u001b[0;32mraise\u001b[0m \u001b[0mException\u001b[0m\u001b[0;34m(\u001b[0m\u001b[0;34m\"The scalars a and b do not bound a root\"\u001b[0m\u001b[0;34m)\u001b[0m\u001b[0;34m\u001b[0m\u001b[0;34m\u001b[0m\u001b[0m\n\u001b[0m\u001b[1;32m      7\u001b[0m   \u001b[0;32mif\u001b[0m \u001b[0mnp\u001b[0m\u001b[0;34m.\u001b[0m\u001b[0mabs\u001b[0m\u001b[0;34m(\u001b[0m\u001b[0mf\u001b[0m\u001b[0;34m(\u001b[0m\u001b[0mm\u001b[0m\u001b[0;34m)\u001b[0m\u001b[0;34m)\u001b[0m \u001b[0;34m<\u001b[0m \u001b[0mtol\u001b[0m\u001b[0;34m:\u001b[0m\u001b[0;34m\u001b[0m\u001b[0;34m\u001b[0m\u001b[0m\n\u001b[1;32m      8\u001b[0m     \u001b[0;32mreturn\u001b[0m \u001b[0mm\u001b[0m\u001b[0;34m\u001b[0m\u001b[0;34m\u001b[0m\u001b[0m\n",
            "\u001b[0;31mException\u001b[0m: The scalars a and b do not bound a root"
          ]
        }
      ]
    },
    {
      "cell_type": "markdown",
      "source": [
        "# 19.4 Newton-Raphson Method "
      ],
      "metadata": {
        "id": "ot8MGLOwarBJ"
      }
    },
    {
      "cell_type": "markdown",
      "source": [
        "The Newton-Raphson Method is a different method of finding roots based on the approximation of the function. This method converges quickly close to the actual root, but can have unstable behavior."
      ],
      "metadata": {
        "id": "qfka9PFyNjDY"
      }
    },
    {
      "cell_type": "markdown",
      "source": [
        "When f(x) is a smooth, continuous function, x_r is an unknown root of f(x). If x0 is a guess for x_r, f(x0) will most likely not be a root. Assuming x0 is close enough to x_r, it can be improved by taking the linear approximation of f(x) around x0.\n",
        "\n",
        "f(x) = f(x0) + f'(x0)(x-x0)  --> find x1 such that f(x1) = 0\n",
        "\n",
        "0 = f(x0) + f'(x0)(x1-x0)  --> x1 = x0 - f(x0)/f'(x0)\n"
      ],
      "metadata": {
        "id": "CHy2ga1MBXDv"
      }
    },
    {
      "cell_type": "markdown",
      "source": [
        "Newton Step - Computes improved guess x_i, using previoud guess x_iminus1:\n",
        "\n",
        "x_i = x_iminus1 - g(x_iminus1)/g'(x_iminus1)\n",
        "\n",
        "Newton-Raphson Method - Iterates Newton Steps from x0 until error < tolerance\n"
      ],
      "metadata": {
        "id": "Hln3UWc6HKpM"
      }
    },
    {
      "cell_type": "code",
      "source": [
        "import numpy as np\n",
        "f = lambda x: x**2 - 2\n",
        "f_prime = lambda x: 2*x\n",
        "newton_raphson = 1.4 - (f(1.4))/(f_prime(1.4))\n",
        "\n",
        "print(\"Newton-Raphson = \", newton_raphson)\n",
        "print(\"Sqrt(2) = \", np.sqrt(2))\n",
        "\n",
        "def my_newton(f, df, x0, tol):      # Output is n estimation of the root of f using the Newton-Raphson Method\n",
        "    if abs(f(x0)) < tol:\n",
        "      return x0\n",
        "    else:\n",
        "      return my_newton(f, df, x0-f(x0)/df(x0), tol)\n",
        "\n",
        "estimate = my_newton(f, f_prime, 1.5, 1e-6)   # 1.5 is the start point, and 1e-6 is the tolerance\n",
        "print(\"Estimate = \", estimate)\n",
        "print(\"Sqrt(2) = \", np.sqrt(2))"
      ],
      "metadata": {
        "colab": {
          "base_uri": "https://localhost:8080/"
        },
        "id": "uF5Y1mODH5au",
        "outputId": "9520563c-b8c0-45dd-c2a1-cb08c4709ccc"
      },
      "execution_count": 13,
      "outputs": [
        {
          "output_type": "stream",
          "name": "stdout",
          "text": [
            "Newton-Raphson =  1.4142857142857144\n",
            "Sqrt(2) =  1.4142135623730951\n",
            "Estimate =  1.4142135623746899\n",
            "Sqrt(2) =  1.4142135623730951\n"
          ]
        }
      ]
    },
    {
      "cell_type": "markdown",
      "source": [
        "# 19.5 Root Finding in Python"
      ],
      "metadata": {
        "id": "K4KaFCiEarP5"
      }
    },
    {
      "cell_type": "markdown",
      "source": [
        "Python has built-in, root-finding functions that can be called to optimize code, especially in cases of using multiple, complex functions and operations.\n",
        "\n",
        "fsolve is a root finding function in Python.\n",
        "\n"
      ],
      "metadata": {
        "id": "rJvgoLnHKzEP"
      }
    },
    {
      "cell_type": "code",
      "source": [
        "from scipy.optimize import fsolve\n",
        "f = lambda x: x**3 - 100*x**2 - x + 100\n",
        "fsolve(f, [2,80])\n",
        "# Prints array([ 1.0, 100.0])"
      ],
      "metadata": {
        "colab": {
          "base_uri": "https://localhost:8080/"
        },
        "id": "_M6mY8sVM2qQ",
        "outputId": "1c4d6730-563d-48e1-f1e1-00e74dc2d302"
      },
      "execution_count": 14,
      "outputs": [
        {
          "output_type": "execute_result",
          "data": {
            "text/plain": [
              "array([  1., 100.])"
            ]
          },
          "metadata": {},
          "execution_count": 14
        }
      ]
    }
  ]
}