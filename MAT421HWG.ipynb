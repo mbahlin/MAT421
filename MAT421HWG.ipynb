{
  "nbformat": 4,
  "nbformat_minor": 0,
  "metadata": {
    "colab": {
      "name": "MAT421HWG.ipynb",
      "provenance": [],
      "toc_visible": true,
      "authorship_tag": "ABX9TyOuTqmzCpibPv9dGYWqMhtt",
      "include_colab_link": true
    },
    "kernelspec": {
      "name": "python3",
      "display_name": "Python 3"
    },
    "language_info": {
      "name": "python"
    }
  },
  "cells": [
    {
      "cell_type": "markdown",
      "metadata": {
        "id": "view-in-github",
        "colab_type": "text"
      },
      "source": [
        "<a href=\"https://colab.research.google.com/github/mbahlin/MAT421/blob/main/MAT421HWG.ipynb\" target=\"_parent\"><img src=\"https://colab.research.google.com/assets/colab-badge.svg\" alt=\"Open In Colab\"/></a>"
      ]
    },
    {
      "cell_type": "markdown",
      "source": [
        "# 21.1 Numerical Integration Problem Statement "
      ],
      "metadata": {
        "id": "vFxG_xuJ936g"
      }
    },
    {
      "cell_type": "markdown",
      "source": [
        "\n",
        "Function f(x):\n",
        "\n",
        "Take integral over total interval [a,b].\n",
        "\n",
        "Numerical grid consists of n+1 points with spacing h = (b - a)/n.\n",
        "\n",
        "Each point x on the grid equals x_i, where x_0 = a , and x_n = b\n",
        "\n",
        "The subinterval is [x_i, x_iplus1]\n",
        "\n",
        "Numerical Integration = ∫[a,b] f(x)dx "
      ],
      "metadata": {
        "id": "yg5-rrwkBqWD"
      }
    },
    {
      "cell_type": "markdown",
      "source": [
        "# 21.2 Riemann's Integral"
      ],
      "metadata": {
        "id": "HNwTUAU_94YA"
      }
    },
    {
      "cell_type": "markdown",
      "source": [
        "Width of Rectangle = x_iplus1 - x_1 = h \n",
        "Height of Rectangle = defined by function value f(x)\n",
        "Riemann Integral Approximation:\n",
        "\n",
        "∫[a,b] f(x)dx = ∑[n-1, i=0] h f(x_i) = ∑[n, i=1] hf(x_i)\n",
        "\n",
        "(Sum Equations depend on if left or right endpoint is chosen to measure height)\n",
        "\n",
        "Taylor Series Substitution:\n",
        "\n",
        "∫[x_i,x_iplus1] f(x)dx = ∫[x_i,x_iplus1] (f(x_i) + f'(x_i)(x - x_i) + ...)dx = hf(x_i) + O(h^2)\n",
        "\n",
        "Riemann integral approximation over a single integral is O(h^2)\n",
        "\n",
        "h = (b - a)/n\n",
        "\n",
        "Total Error: O(h) = ((b - a)/n) * O(h^2) = the overall accuracy.\n",
        "\n",
        "Midpoint Rule:\n",
        "\n",
        "Takes the rectangular height of the rectangle at each subinterval to be the midpoint between x_i and x_iplus1 or y = (x_iplus1 + x_i)/2\n",
        "\n",
        "∫[a,b] f(x)dx = ∑[n, i=1] h f(y_i) \n",
        "\n",
        "Using Taylor Series Substitution: \n",
        "\n",
        "∫[x_i,x_iplus1] f(x)dx = hf(y_i) + O(h^3)\n"
      ],
      "metadata": {
        "id": "0vB6y0tFBrGa"
      }
    },
    {
      "cell_type": "code",
      "source": [
        "import numpy as np \n",
        "a = 0 \n",
        "b = np.pi\n",
        "n = 10\n",
        "h = (b - a)/(n - 1)\n",
        "x = np.linspace(a,b,n)\n",
        "f = np.cos(x)\n",
        "\n",
        "I_rl = h * sum(f[:n-1])\n",
        "err_rl = 0 - I_rl\n",
        "\n",
        "I_rr = h * sum(f[1:])\n",
        "err_rr = 0 - I_rr\n",
        "\n",
        "I_mid = h * sum(np.cos((x[:n-1] + x[1:]) / 2 ))\n",
        "err_mid = 0 - I_mid\n",
        "\n",
        "print(I_rl)\n",
        "print(err_rl)\n",
        "\n",
        "print(I_rr)\n",
        "print(err_rr)\n",
        "\n",
        "print(I_mid)\n",
        "print(err_mid)\n"
      ],
      "metadata": {
        "colab": {
          "base_uri": "https://localhost:8080/"
        },
        "id": "8dJKoX3-MhZq",
        "outputId": "f9b78476-6211-401c-eccd-e3be2ab3a26c"
      },
      "execution_count": null,
      "outputs": [
        {
          "output_type": "stream",
          "name": "stdout",
          "text": [
            "0.34906585039886606\n",
            "-0.34906585039886606\n",
            "-0.3490658503988656\n",
            "0.3490658503988656\n",
            "1.5501637768927252e-16\n",
            "-1.5501637768927252e-16\n"
          ]
        }
      ]
    },
    {
      "cell_type": "markdown",
      "source": [
        "# 21.3 Trapezoid Rule\n"
      ],
      "metadata": {
        "id": "OM3u6Be894r5"
      }
    },
    {
      "cell_type": "markdown",
      "source": [
        "Trapezoid Rule:\n",
        "\n",
        "Fits a trapezoid into each subinterval and sums the areas of the trapezoid to approximate the total integral.\n",
        "\n",
        "∫[a,b] f(x)dx = ∑[n-1, i=0] h (f(x_i) + f(x_iplus1))/2\n",
        "\n",
        "Expansion of Trapezoid Rule:\n",
        "\n",
        "∑[n-1, i=0] h (f(x_i) + f(x_iplus1))/2 = (h/2)[(f(x_0) + f(x_1)) + (f(x_1) + f(x_2)) + ... + (f(x_nminus1) + f(x_n))]\n",
        "\n",
        "Using Taylor Series Substitution:\n",
        "\n",
        "∫[x_i,x_iplus1] f(x)dx = h((f(x_i) + f(x_iplus1))/2) + O(h^3)\n",
        "\n",
        "Trapezoid rule approximation integral over subinterval = h(f(x_iplus1) + f(x_i))\n",
        "\n",
        "O(h^3) for single subinterval, O(h^2) for whole integral \n",
        "\n"
      ],
      "metadata": {
        "id": "4sMNHON4Br1g"
      }
    },
    {
      "cell_type": "code",
      "source": [
        "import numpy as np\n",
        "\n",
        "a = 0 \n",
        "b = np.pi\n",
        "n = 11\n",
        "h = (b - a)/(n - 1)\n",
        "x = np.linspace(a,b,n)\n",
        "f = np.cos(x)\n",
        "\n",
        "I_trap = (h/2)*(f[0] + 2*sum(f[1:n-1]) + f[n-1])\n",
        "err_trap = 0 - I_trap\n",
        "\n",
        "print(I_trap)\n",
        "print(err_trap)\n"
      ],
      "metadata": {
        "colab": {
          "base_uri": "https://localhost:8080/"
        },
        "id": "QVBC8FFQPyBQ",
        "outputId": "c58a54d6-81e1-4763-9d57-dd2fc9e9fe58"
      },
      "execution_count": null,
      "outputs": [
        {
          "output_type": "stream",
          "name": "stdout",
          "text": [
            "2.092721098805179e-16\n",
            "-2.092721098805179e-16\n"
          ]
        }
      ]
    },
    {
      "cell_type": "markdown",
      "source": [
        "# 21.4 Simpson's Rule"
      ],
      "metadata": {
        "id": "7TDeMqTCVcDa"
      }
    },
    {
      "cell_type": "markdown",
      "source": [
        "Simpson's Rule - Approximates the area under f(x) over subintervals [x_iminus1, x_i] and [x_i,x_iplus1] by fitting a quadratic polynomial throught he points (x_iminus1, f(x_iminus1)),(x_i, f(x_i)) and (x_iplus1, f(x_iplus1)) which is a unique polynomial, then integrating that quadratic exactly.\n",
        "\n",
        "Final Version:\n",
        "\n",
        "∫[x_i,x_iplus1] f(x)dx = (h/3)((f(x_iplus1) + 4*f(x_i) + f(x_iplus1)) + O(h^5)"
      ],
      "metadata": {
        "id": "8V9GgijdWUCo"
      }
    },
    {
      "cell_type": "code",
      "source": [
        "import numpy as np\n",
        "\n",
        "a = 0 \n",
        "b = np.pi\n",
        "n = 11\n",
        "h = (b - a)/(n - 1)\n",
        "x = np.linspace( a, b, n)\n",
        "f = np.sin(x)\n",
        "I_simp = (h/3) * (f[0] + 2*sum(f[:n-2:]) + 4*sum(f[1:n-1:2]) + f[n-1])\n",
        "err_simp = 2 - I_simp\n",
        "\n",
        "print(I_simp)\n",
        "print(err_simp)"
      ],
      "metadata": {
        "id": "Gxfl2M0qa7hj"
      },
      "execution_count": null,
      "outputs": []
    },
    {
      "cell_type": "markdown",
      "source": [
        "# 21.5 Computing Integrals in Python"
      ],
      "metadata": {
        "id": "6h122xPGVrHx"
      }
    },
    {
      "cell_type": "markdown",
      "source": [
        "The scipy.integrate sub packages has several functions for computing integrals. The trapz takes input argument an array of function values f computed on a numerical grid x."
      ],
      "metadata": {
        "id": "aAk04VLleBe9"
      }
    },
    {
      "cell_type": "code",
      "source": [
        "import numpy as np\n",
        "from scipy.integrate import trapz\n",
        "\n",
        "a = 0\n",
        "b = np.pi\n",
        "n = 11\n",
        "h = (b - a)/(n - 1)\n",
        "x = np.linspace(a , b, n)\n",
        "f = np.sin(x)\n",
        "I_trapz = trapz(f , x)\n",
        "I_trap = (h/2)*(f[0] + 2*sum(f[1:n-1]) + f[n-1])\n",
        "\n",
        "print(I_trapz)\n",
        "print(I_trap)"
      ],
      "metadata": {
        "colab": {
          "base_uri": "https://localhost:8080/"
        },
        "id": "obtntXgXeAFt",
        "outputId": "8fcc300e-296b-4d5b-8e7c-48bfcc0bd58b"
      },
      "execution_count": 6,
      "outputs": [
        {
          "output_type": "stream",
          "name": "stdout",
          "text": [
            "1.9835235375094544\n",
            "1.9835235375094546\n"
          ]
        }
      ]
    },
    {
      "cell_type": "markdown",
      "source": [
        "Use the cumtrapz function cumsum to find the approximated cumulative integral \n",
        "\n",
        "F(X) = ∫[x_0, X] f(x)dx"
      ],
      "metadata": {
        "id": "bTHe0bBtd9Qp"
      }
    },
    {
      "cell_type": "code",
      "source": [
        "from scipy.integrate import cumtrapz\n",
        "import numpy as np\n",
        "import matplotlib.pyplot as plt\n",
        "\n",
        "%matplotlib inline\n",
        "\n",
        "x = np.arange(0, np.pi, 0.01)\n",
        "F_exact =  np.cos(x)\n",
        "F_approx = cumtrapz( - np.sin(x), x)\n",
        "\n",
        "plt.figure(figsize = (10,6))\n",
        "plt.plot(x, F_exact)\n",
        "plt.plot(x[1::], F_approx)\n",
        "plt.grid()\n",
        "plt.tight_layout()\n",
        "plt.title('$F(x) = \\int_0^{x} sin(y) dy$')\n",
        "plt.xlabel('x')\n",
        "plt.ylabel('f(x)')\n",
        "plt.legend(['Exact with Offset', 'Approximate'])\n",
        "plt.show()"
      ],
      "metadata": {
        "colab": {
          "base_uri": "https://localhost:8080/",
          "height": 481
        },
        "id": "mHdF_yj5fFqZ",
        "outputId": "098fb1dd-9e5d-460e-b51a-a84c07b841b5"
      },
      "execution_count": 5,
      "outputs": [
        {
          "output_type": "display_data",
          "data": {
            "text/plain": [
              "<Figure size 720x432 with 1 Axes>"
            ],
            "image/png": "[encoded data removed]"
          },
          "metadata": {
            "needs_background": "light"
          }
        }
      ]
    },
    {
      "cell_type": "markdown",
      "source": [
        "The quad(f, a, b) function uses a different numerical differentiation scheme to approximate integrals. quad integrates the function defined by the function object, f, from a to b \n",
        "\n"
      ],
      "metadata": {
        "id": "f5ppitqxfHkX"
      }
    },
    {
      "cell_type": "code",
      "source": [
        "from scipy.integrate import quad\n",
        "\n",
        "I_quad, est_err_quad = quad(np.sin, 0, np.pi)\n",
        "err_quad = 2 - I_quad\n",
        "\n",
        "print(I_quad)\n",
        "print(err_quad)"
      ],
      "metadata": {
        "id": "k9pSVj9ZfIa0"
      },
      "execution_count": null,
      "outputs": []
    }
  ]
}